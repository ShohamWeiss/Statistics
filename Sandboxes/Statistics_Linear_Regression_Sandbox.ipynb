{
  "nbformat": 4,
  "nbformat_minor": 0,
  "metadata": {
    "colab": {
      "name": "Statistics Linear Regression Sandbox.ipynb",
      "provenance": [],
      "collapsed_sections": [
        "S6MeqwHipclK",
        "YTB6Z00FplMw"
      ],
      "authorship_tag": "ABX9TyNxrjni144GfN9203521L0S",
      "include_colab_link": true
    },
    "kernelspec": {
      "name": "python3",
      "display_name": "Python 3"
    }
  },
  "cells": [
    {
      "cell_type": "markdown",
      "metadata": {
        "id": "view-in-github",
        "colab_type": "text"
      },
      "source": [
        "<a href=\"https://colab.research.google.com/github/ShohamWeiss/Statistics/blob/master/Sandboxes/Statistics_Linear_Regression_Sandbox.ipynb\" target=\"_parent\"><img src=\"https://colab.research.google.com/assets/colab-badge.svg\" alt=\"Open In Colab\"/></a>"
      ]
    },
    {
      "cell_type": "code",
      "metadata": {
        "id": "z-wlQIkgywlN",
        "colab_type": "code",
        "colab": {}
      },
      "source": [
        "import matplotlib.pyplot as plt\n",
        "import random\n",
        "import numpy as np"
      ],
      "execution_count": 6,
      "outputs": []
    },
    {
      "cell_type": "code",
      "metadata": {
        "id": "qBKVtA2oypXX",
        "colab_type": "code",
        "colab": {}
      },
      "source": [
        "y = np.array([1, 1, 2, 3, 6, 5, 5,10, 14, 17, 19])\n",
        "x = np.array(range(len(y)))"
      ],
      "execution_count": null,
      "outputs": []
    },
    {
      "cell_type": "code",
      "metadata": {
        "id": "gwvUw47Ly4Gf",
        "colab_type": "code",
        "colab": {
          "base_uri": "https://localhost:8080/",
          "height": 282
        },
        "outputId": "d9828ae6-acfb-4e1a-98ec-b2a41230decb"
      },
      "source": [
        "plt.scatter(x, y)"
      ],
      "execution_count": null,
      "outputs": [
        {
          "output_type": "execute_result",
          "data": {
            "text/plain": [
              "<matplotlib.collections.PathCollection at 0x7f9fb8613240>"
            ]
          },
          "metadata": {
            "tags": []
          },
          "execution_count": 9
        },
        {
          "output_type": "display_data",
          "data": {
            "image/png": "[encoded data removed]",
            "text/plain": [
              "<Figure size 432x288 with 1 Axes>"
            ]
          },
          "metadata": {
            "tags": [],
            "needs_background": "light"
          }
        }
      ]
    },
    {
      "cell_type": "markdown",
      "metadata": {
        "id": "S6MeqwHipclK",
        "colab_type": "text"
      },
      "source": [
        "# Simple Approach (Mx + b)"
      ]
    },
    {
      "cell_type": "code",
      "metadata": {
        "id": "3hOM4Sxpy9E3",
        "colab_type": "code",
        "colab": {}
      },
      "source": [
        "# y = mx + b try to fit\n",
        "# minimize the Sum Square Error = sum((y - yfit)^2)\n",
        "# adjust m and b (gradient decent)"
      ],
      "execution_count": null,
      "outputs": []
    },
    {
      "cell_type": "code",
      "metadata": {
        "id": "BOjkUhtVQ4Rm",
        "colab_type": "code",
        "colab": {}
      },
      "source": [
        "def err(x,y,m,b):\n",
        "  return sum((y - (m*x + b)) **2)"
      ],
      "execution_count": null,
      "outputs": []
    },
    {
      "cell_type": "code",
      "metadata": {
        "id": "B9s4CMmbRDlv",
        "colab_type": "code",
        "colab": {}
      },
      "source": [
        "m = np.arange(0,2,0.1)\n",
        "b = 1.1\n",
        "error = [err(x,y,m,b) for m in m]"
      ],
      "execution_count": null,
      "outputs": []
    },
    {
      "cell_type": "code",
      "metadata": {
        "id": "uTLoyu7WRVP3",
        "colab_type": "code",
        "colab": {
          "base_uri": "https://localhost:8080/"
        },
        "outputId": "376bb5fe-535c-46e2-f271-d1348a7196ae"
      },
      "source": [
        "plt.plot(m,error)\n",
        "plt.scatter(0.7,min(error), color='r')"
      ],
      "execution_count": null,
      "outputs": [
        {
          "output_type": "execute_result",
          "data": {
            "text/plain": [
              "<matplotlib.collections.PathCollection at 0x7f104bd7ab70>"
            ]
          },
          "metadata": {
            "tags": []
          },
          "execution_count": 130
        },
        {
          "output_type": "display_data",
          "data": {
            "image/png": "[encoded data removed]",
            "text/plain": [
              "<Figure size 432x288 with 1 Axes>"
            ]
          },
          "metadata": {
            "tags": [],
            "needs_background": "light"
          }
        }
      ]
    },
    {
      "cell_type": "code",
      "metadata": {
        "id": "e_2oIeU_TyWK",
        "colab_type": "code",
        "colab": {}
      },
      "source": [
        "m = 0.25\n",
        "def hardGradientDescent(x, y, w, stepSize):\n",
        "  newW = w.copy()\n",
        "  minDeltaErr = 0\n",
        "  for i in range(len(w)):\n",
        "    testW = w.copy()\n",
        "    save = testW[i]\n",
        "    testW[i] = testW[i] + stepSize\n",
        "    deltaErr = err(x, y, testW[0], testW[1]) - err(x,y,w[0],w[1])\n",
        "    if (deltaErr < 0 and deltaErr < minDeltaErr):\n",
        "      minDeltaErr = deltaErr\n",
        "      newW = w.copy()\n",
        "      newW[i] = testW[i]\n",
        "  print(i, \"newW: \", newW, \"DErr: \", minDeltaErr)\n",
        "  if (not np.array_equal(w,newW)):\n",
        "    return hardGradientDescent(x,y,newW, stepSize)\n",
        "  elif (stepSize > 0):\n",
        "    return hardGradientDescent(x,y,newW, -stepSize)\n",
        "  else:\n",
        "    return w"
      ],
      "execution_count": null,
      "outputs": []
    },
    {
      "cell_type": "code",
      "metadata": {
        "id": "BLmKYr6wY98k",
        "colab_type": "code",
        "colab": {
          "base_uri": "https://localhost:8080/"
        },
        "outputId": "7261c809-f7a5-4323-889a-d297cdb2fb8f"
      },
      "source": [
        "newWs = hardGradientDescent(x,y,[m,b], 0.05)\n",
        "print(newWs)"
      ],
      "execution_count": null,
      "outputs": [
        {
          "output_type": "stream",
          "text": [
            "1 newW:  [0.3, 1.1] DErr:  -20.162499999999994\n",
            "1 newW:  [0.35, 1.1] DErr:  -18.237499999999983\n",
            "1 newW:  [0.39999999999999997, 1.1] DErr:  -16.312499999999986\n",
            "1 newW:  [0.44999999999999996, 1.1] DErr:  -14.387500000000017\n",
            "1 newW:  [0.49999999999999994, 1.1] DErr:  -12.462499999999999\n",
            "1 newW:  [0.5499999999999999, 1.1] DErr:  -10.537500000000001\n",
            "1 newW:  [0.6, 1.1] DErr:  -8.612500000000004\n",
            "1 newW:  [0.65, 1.1] DErr:  -6.687500000000007\n",
            "1 newW:  [0.7000000000000001, 1.1] DErr:  -4.762500000000003\n",
            "1 newW:  [0.7500000000000001, 1.1] DErr:  -2.837499999999988\n",
            "1 newW:  [0.8000000000000002, 1.1] DErr:  -0.912500000000005\n",
            "1 newW:  [0.8000000000000002, 1.1500000000000001] DErr:  -0.462499999999995\n",
            "1 newW:  [0.8000000000000002, 1.2000000000000002] DErr:  -0.40750000000000064\n",
            "1 newW:  [0.8000000000000002, 1.2500000000000002] DErr:  -0.3525000000000045\n",
            "1 newW:  [0.8000000000000002, 1.3000000000000003] DErr:  -0.2974999999999959\n",
            "1 newW:  [0.8000000000000002, 1.3500000000000003] DErr:  -0.24249999999999972\n",
            "1 newW:  [0.8000000000000002, 1.4000000000000004] DErr:  -0.18750000000000178\n",
            "1 newW:  [0.8000000000000002, 1.4500000000000004] DErr:  -0.1324999999999985\n",
            "1 newW:  [0.8000000000000002, 1.5000000000000004] DErr:  -0.07749999999999702\n",
            "1 newW:  [0.8000000000000002, 1.5500000000000005] DErr:  -0.022499999999993747\n",
            "1 newW:  [0.8000000000000002, 1.5500000000000005] DErr:  0\n",
            "1 newW:  [0.7500000000000001, 1.5500000000000005] DErr:  -1.5625000000000142\n",
            "1 newW:  [0.7500000000000001, 1.5500000000000005] DErr:  0\n",
            "[0.7500000000000001, 1.5500000000000005]\n"
          ],
          "name": "stdout"
        }
      ]
    },
    {
      "cell_type": "code",
      "metadata": {
        "id": "zIEoSJ71Zlmf",
        "colab_type": "code",
        "colab": {
          "base_uri": "https://localhost:8080/"
        },
        "outputId": "b636fed1-f0c2-46ab-9161-76edb0f459cd"
      },
      "source": [
        "plt.plot(x, newWs[0]*x + newWs[1])\n",
        "plt.scatter(x,y)"
      ],
      "execution_count": null,
      "outputs": [
        {
          "output_type": "execute_result",
          "data": {
            "text/plain": [
              "<matplotlib.collections.PathCollection at 0x7f104bd14080>"
            ]
          },
          "metadata": {
            "tags": []
          },
          "execution_count": 133
        },
        {
          "output_type": "display_data",
          "data": {
            "image/png": "[encoded data removed]",
            "text/plain": [
              "<Figure size 432x288 with 1 Axes>"
            ]
          },
          "metadata": {
            "tags": [],
            "needs_background": "light"
          }
        }
      ]
    },
    {
      "cell_type": "markdown",
      "metadata": {
        "id": "YTB6Z00FplMw",
        "colab_type": "text"
      },
      "source": [
        "# Medium Approach General"
      ]
    },
    {
      "cell_type": "code",
      "metadata": {
        "id": "bt0mMmP3ft1i",
        "colab_type": "code",
        "colab": {}
      },
      "source": [
        "# generalized Err func\n",
        "def err(xs, ys, w, powerSteps = 1):\n",
        "  totErr = 99999\n",
        "  for j in range(len(x)):\n",
        "    yPred = 0\n",
        "    for i in range(len(w)):\n",
        "      yPred += w[i]*(xs[j])**(i * powerSteps)\n",
        "    totErr += (yPred - ys[j]) **(2)\n",
        "  return totErr"
      ],
      "execution_count": null,
      "outputs": []
    },
    {
      "cell_type": "code",
      "metadata": {
        "id": "xcjXqndiiLGt",
        "colab_type": "code",
        "colab": {}
      },
      "source": [
        "# generalize gradient descent func\n",
        "def hardGradientDescent(x, y, w, stepSize, recTime = 0):\n",
        "  if (recTime > 50):\n",
        "    return w, err(x,y,w)\n",
        "  newW = w.copy()\n",
        "  minDeltaErr = 0\n",
        "  for i in range(len(w)):\n",
        "    testW = w.copy()\n",
        "    save = testW[i]\n",
        "    testW[i] = testW[i] + stepSize\n",
        "    deltaErr = err(x, y, testW) - err(x,y,w)\n",
        "    if (deltaErr < 0 and deltaErr < minDeltaErr):\n",
        "      minDeltaErr = deltaErr\n",
        "      newW = w.copy()\n",
        "      newW[i] = testW[i]\n",
        "  if (not np.array_equal(w,newW)):\n",
        "    return hardGradientDescent(x,y,newW, stepSize, recTime = recTime + 1)\n",
        "  elif (stepSize > 0):\n",
        "    return hardGradientDescent(x,y,newW, -stepSize, recTime = recTime + 1)\n",
        "  else:\n",
        "    return w, err(x,y,w)"
      ],
      "execution_count": null,
      "outputs": []
    },
    {
      "cell_type": "code",
      "metadata": {
        "id": "QaLGvs_fjhfQ",
        "colab_type": "code",
        "colab": {
          "base_uri": "https://localhost:8080/",
          "height": 269
        },
        "outputId": "b667e5d2-0325-440e-f591-eb5ecaf3a5f0"
      },
      "source": [
        "# cant find global minima so going to do random walk for starting weights\n",
        "w = [0,0,0]\n",
        "minErr = err(x,y,w)\n",
        "for i in np.arange(-2,2,0.5):\n",
        "  for j in np.arange(-2,2,0.5):\n",
        "    for k in np.arange(-2,2,0.5):\n",
        "      newW, newErr = hardGradientDescent(x,y,[i,j,k], 0.01)\n",
        "      if (newErr < minErr):\n",
        "        w = newW\n",
        "        minErr = newErr\n",
        "        print(minErr)"
      ],
      "execution_count": null,
      "outputs": [
        {
          "output_type": "stream",
          "text": [
            "260.77570000000014\n",
            "188.3773000000001\n",
            "131.35790000000003\n",
            "86.88430000000005\n",
            "54.93310000000004\n",
            "35.50429999999999\n",
            "28.597899999999996\n",
            "26.8939\n",
            "25.065099999999987\n",
            "22.492299999999997\n",
            "17.76849999999999\n",
            "16.948299999999993\n",
            "14.932300000000001\n",
            "14.462800000000003\n",
            "14.462800000000001\n"
          ],
          "name": "stdout"
        }
      ]
    },
    {
      "cell_type": "code",
      "metadata": {
        "id": "kzGblIbemGsa",
        "colab_type": "code",
        "colab": {
          "base_uri": "https://localhost:8080/",
          "height": 298
        },
        "outputId": "6e98e91e-b612-46cc-93f1-4610a33c87e0"
      },
      "source": [
        "print(w)\n",
        "rightY = np.zeros(len(x))\n",
        "for i in range(len(w)):\n",
        "  rightY += w[i]*(x**(i))\n",
        "plt.plot(x, rightY)\n",
        "plt.scatter(x,y)"
      ],
      "execution_count": null,
      "outputs": [
        {
          "output_type": "stream",
          "text": [
            "[1.0, -0.03, 0.18999999999999972]\n"
          ],
          "name": "stdout"
        },
        {
          "output_type": "execute_result",
          "data": {
            "text/plain": [
              "<matplotlib.collections.PathCollection at 0x7f3899c9a630>"
            ]
          },
          "metadata": {
            "tags": []
          },
          "execution_count": 31
        },
        {
          "output_type": "display_data",
          "data": {
            "image/png": "[encoded data removed]",
            "text/plain": [
              "<Figure size 432x288 with 1 Axes>"
            ]
          },
          "metadata": {
            "tags": [],
            "needs_background": "light"
          }
        }
      ]
    },
    {
      "cell_type": "markdown",
      "metadata": {
        "id": "5dDWqZ77byqH",
        "colab_type": "text"
      },
      "source": [
        "# Upper Medium Approach (add another variable if it fixes the error by more that threshold)"
      ]
    },
    {
      "cell_type": "code",
      "metadata": {
        "id": "L54dZEBkcn9r",
        "colab_type": "code",
        "colab": {}
      },
      "source": [
        "def getY(x,w, powerSteps = 1):\n",
        "  y = np.zeros(len(x))\n",
        "  for i in range(len(w)):\n",
        "    y += w[i]*(x**(i * powerSteps))\n",
        "  return y"
      ],
      "execution_count": null,
      "outputs": []
    },
    {
      "cell_type": "code",
      "metadata": {
        "id": "PLi9wbJob9gB",
        "colab_type": "code",
        "colab": {}
      },
      "source": [
        "def fit(x,y,threshold = 0.5, powerSteps = 1, lastDeltaErr = 2, w = [0], notBetterCount = 0, maxW = 10):\n",
        "  oldErr = err(x,y,w,powerSteps=powerSteps)\n",
        "  if (notBetterCount > 5 or len(w) > maxW):\n",
        "    newY = getY(x,w, powerSteps=powerSteps)\n",
        "    print(lastDeltaErr, oldErr)\n",
        "    return newY, w\n",
        "  if (lastDeltaErr < threshold):\n",
        "    notBetterCount  = notBetterCount + 1\n",
        "  else:\n",
        "    notBetterCount = 0\n",
        "  w.append(0)\n",
        "  w, newErr = hardGradientDescent(x, y, w, 0.05, recTime = 0)\n",
        "  print(len(w), newErr)\n",
        "  return fit(x,y,lastDeltaErr=oldErr - newErr ,w = w, notBetterCount = notBetterCount)"
      ],
      "execution_count": null,
      "outputs": []
    },
    {
      "cell_type": "code",
      "metadata": {
        "id": "NzkNWCouh45I",
        "colab_type": "code",
        "colab": {
          "base_uri": "https://localhost:8080/",
          "height": 466
        },
        "outputId": "eb560b46-be61-49d3-f666-ebbc82543f8c"
      },
      "source": [
        "predY, w = fit(x,y, powerSteps=1)\n",
        "plt.scatter(x,y)\n",
        "plt.plot(x,predY)\n",
        "print(w)"
      ],
      "execution_count": null,
      "outputs": [
        {
          "output_type": "stream",
          "text": [
            "2 66844996.432500005\n",
            "3 61995104.129999995\n",
            "4 29032530.532500014\n",
            "5 258544.19250000006\n",
            "6 247135.19249999974\n",
            "7 230731.73249999993\n",
            "8 220337.09249999988\n",
            "9 205857.0525000001\n",
            "10 196930.4925000003\n",
            "11 188290.4324999997\n",
            "8640.060000000609 188290.4324999997\n",
            "[0, -11.550000000000031, 0.19999999999999968, 2.9499999999999975, 0.65, 0, 0, 0, 0, 0, 0]\n"
          ],
          "name": "stdout"
        },
        {
          "output_type": "display_data",
          "data": {
            "image/png": "[encoded data removed]",
            "text/plain": [
              "<Figure size 432x288 with 1 Axes>"
            ]
          },
          "metadata": {
            "tags": [],
            "needs_background": "light"
          }
        }
      ]
    },
    {
      "cell_type": "markdown",
      "metadata": {
        "id": "d0g8KjIdksmn",
        "colab_type": "text"
      },
      "source": [
        "new Data test"
      ]
    },
    {
      "cell_type": "code",
      "metadata": {
        "id": "KhkWJuU9jWG5",
        "colab_type": "code",
        "colab": {
          "base_uri": "https://localhost:8080/",
          "height": 134
        },
        "outputId": "471438ea-3092-4115-fec6-4598714e84e3"
      },
      "source": [
        "x = np.array(range(10))\n",
        "y = 10 + 0.5*x - 0.3*x**2 + x**4\n",
        "predY, w = fit(x,y, powerSteps=1)"
      ],
      "execution_count": null,
      "outputs": [
        {
          "output_type": "stream",
          "text": [
            "6 528261.5125000007\n",
            "7 521011.9900000007\n",
            "8 517468.8925000014\n",
            "9 515863.4125000006\n",
            "10 514387.982500001\n",
            "11 513042.6025000011\n",
            "1345.3799999998882 513042.6025000011\n"
          ],
          "name": "stdout"
        }
      ]
    },
    {
      "cell_type": "code",
      "metadata": {
        "id": "fxn0Bg1kk2dJ",
        "colab_type": "code",
        "colab": {
          "base_uri": "https://localhost:8080/",
          "height": 282
        },
        "outputId": "58a9c8ef-e19a-4cfa-ae97-9cbf3657b0c6"
      },
      "source": [
        "plt.plot(x, predY)\n",
        "plt.scatter(x,y)\n",
        "print(w)"
      ],
      "execution_count": null,
      "outputs": [
        {
          "output_type": "stream",
          "text": [
            "[7.649999999999981, 6.399999999999985, 0.9500000000000003, 0.05, 0.15000000000000002, 0.1, 0, 0, 0, 0, 0]\n"
          ],
          "name": "stdout"
        },
        {
          "output_type": "display_data",
          "data": {
            "image/png": "[encoded data removed]",
            "text/plain": [
              "<Figure size 432x288 with 1 Axes>"
            ]
          },
          "metadata": {
            "tags": [],
            "needs_background": "light"
          }
        }
      ]
    },
    {
      "cell_type": "markdown",
      "metadata": {
        "id": "ojuqb9CcnJlB",
        "colab_type": "text"
      },
      "source": [
        "# Advanced Approach (give fit a function and its parameters)"
      ]
    },
    {
      "cell_type": "code",
      "metadata": {
        "id": "4EYxiTTmp8vj",
        "colab_type": "code",
        "colab": {}
      },
      "source": [
        "import numpy as np\n",
        "import matplotlib.pyplot as plt\n",
        "\n",
        "# more generalized Err func\n",
        "def err(xs, ys, w, fitFunc):\n",
        "  totErr = 0\n",
        "  for i in range(len(xs)):\n",
        "    diff = (fitFunc(xs[i],w) - ys[i])\n",
        "    totErr += (diff**2)\n",
        "  return totErr"
      ],
      "execution_count": 3,
      "outputs": []
    },
    {
      "cell_type": "code",
      "metadata": {
        "id": "3mGgA2g8-K1U",
        "colab_type": "code",
        "colab": {}
      },
      "source": [
        "# generalize gradient descent func\n",
        "def hardGradientDescent(x, y, w, fitFunc, stepSize = 1, minStepSize = 0.00001):\n",
        "  newW = w.copy()\n",
        "  minErr = err(x,y,w,fitFunc)\n",
        "  newStepSize = stepSize\n",
        "  while (abs(newStepSize) > minStepSize):\n",
        "    for i in range(len(w)):\n",
        "      testW = newW.copy()\n",
        "      save = testW[i]\n",
        "      testW[i] = testW[i] + newStepSize\n",
        "      newErr = err(x,y,testW,fitFunc)\n",
        "      if (newErr < minErr - 0.00001):\n",
        "        minErr = newErr\n",
        "        newW = testW.copy()\n",
        "        print(newW, minErr)\n",
        "    newStepSize = newStepSize / 2\n",
        "  if (not np.array_equal(w,newW)):\n",
        "    return hardGradientDescent(x,y,newW, fitFunc, stepSize= stepSize, minStepSize = minStepSize)\n",
        "  elif (stepSize > 0):\n",
        "    return hardGradientDescent(x,y,newW, fitFunc, stepSize= -1*stepSize, minStepSize = minStepSize)\n",
        "  else:\n",
        "    return w, err(x,y,newW, fitFunc)"
      ],
      "execution_count": 29,
      "outputs": []
    },
    {
      "cell_type": "code",
      "metadata": {
        "id": "a_2RqHv2m4xx",
        "colab_type": "code",
        "colab": {}
      },
      "source": [
        "def fit(x,y,w,fitFunc,threshold = 0.0001,):\n",
        "  oldErr = err(x,y,w,fitFunc=fitFunc)\n",
        "  deltaErr = 1000\n",
        "  newW = w.copy()\n",
        "  while(deltaErr > threshold):\n",
        "    newW, newErr = hardGradientDescent(x, y, newW, fitFunc)\n",
        "    deltaErr = oldErr - newErr\n",
        "    oldErr = newErr\n",
        "    print(\"NewErr: \", newErr, \"deltaErr: \",deltaErr)\n",
        "  newY = fitFunc(x,newW)\n",
        "  return newY, newW"
      ],
      "execution_count": 30,
      "outputs": []
    },
    {
      "cell_type": "code",
      "metadata": {
        "id": "eIYRpQgt_mjf",
        "colab_type": "code",
        "colab": {}
      },
      "source": [
        "def myFunc(x,w):\n",
        "  return np.sin(w[0]*x) + np.cos(w[1]*x)"
      ],
      "execution_count": 38,
      "outputs": []
    },
    {
      "cell_type": "code",
      "metadata": {
        "id": "uS-rgfai_ta9",
        "colab_type": "code",
        "colab": {
          "base_uri": "https://localhost:8080/",
          "height": 454
        },
        "outputId": "9ef5887b-2e82-4a14-df49-c115f42eef55"
      },
      "source": [
        "x = np.array(range(100))\n",
        "y = myFunc(x,[0.4,0.5])\n",
        "predY, w = fit(x,y, [0.1,0.1], myFunc)"
      ],
      "execution_count": 41,
      "outputs": [
        {
          "output_type": "stream",
          "text": [
            "[1.1, 0.1] 172.8712276644345\n",
            "[1.1, 0.35] 156.51596321664118\n",
            "[1.1, 0.38125] 115.18483217377302\n",
            "[1.1078125, 0.38125] 114.87332876546071\n",
            "[1.1078125, 0.50625] 98.8195423643042\n",
            "[0.8578125000000001, 0.50625] 98.57470913089534\n",
            "[0.8500000000000001, 0.50625] 98.37036036709051\n",
            "[0.8500000000000001, 0.50234375] 96.91912313568517\n",
            "[0.6000000000000001, 0.50234375] 95.15571659531741\n",
            "[0.4750000000000001, 0.50234375] 87.37774561420653\n",
            "[0.4125000000000001, 0.50234375] 21.083813011381984\n",
            "[0.3968750000000001, 0.50234375] 2.8412997955172234\n",
            "[0.3968750000000001, 0.4984375] 1.652845351107894\n",
            "NewErr:  1.652845351107894 deltaErr:  179.49143543448304\n",
            "[0.4007812500000001, 0.4984375] 0.6059244841815207\n",
            "[0.4007812500000001, 0.500390625] 0.09961313793242575\n",
            "[0.3998046875000001, 0.500390625] 0.037121434447568186\n",
            "[0.3998046875000001, 0.49990234375] 0.006287362238898779\n",
            "NewErr:  0.006287362238898779 deltaErr:  1.6465579888689952\n",
            "[0.4000488281250001, 0.49990234375] 0.0023332194011084066\n",
            "[0.4000488281250001, 0.5000244140625] 0.00039201105619800984\n",
            "[0.3999877929687501, 0.5000244140625] 0.00014562644501608124\n",
            "[0.3999877929687501, 0.499993896484375] 2.4515571762537223e-05\n",
            "NewErr:  2.4515571762537223e-05 deltaErr:  0.006262846667136241\n",
            "[0.4000030517578126, 0.499993896484375] 9.104795415963367e-06\n",
            "NewErr:  9.104795415963367e-06 deltaErr:  1.5410776346573857e-05\n"
          ],
          "name": "stdout"
        }
      ]
    },
    {
      "cell_type": "code",
      "metadata": {
        "id": "4EuIiP4u_7yd",
        "colab_type": "code",
        "colab": {
          "base_uri": "https://localhost:8080/",
          "height": 282
        },
        "outputId": "94a4eacb-9d76-49b2-b95d-b2ebd7107d75"
      },
      "source": [
        " plt.scatter(x,y)\n",
        "plt.plot(x,predY)\n",
        "print(w)"
      ],
      "execution_count": 42,
      "outputs": [
        {
          "output_type": "stream",
          "text": [
            "[0.4000030517578126, 0.499993896484375]\n"
          ],
          "name": "stdout"
        },
        {
          "output_type": "display_data",
          "data": {
            "image/png": "[encoded data removed]",
            "text/plain": [
              "<Figure size 432x288 with 1 Axes>"
            ]
          },
          "metadata": {
            "tags": [],
            "needs_background": "light"
          }
        }
      ]
    },
    {
      "cell_type": "code",
      "metadata": {
        "id": "RbwguyPpV9_D",
        "colab_type": "code",
        "colab": {}
      },
      "source": [
        ""
      ],
      "execution_count": null,
      "outputs": []
    }
  ]
}