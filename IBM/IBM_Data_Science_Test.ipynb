{
  "nbformat": 4,
  "nbformat_minor": 0,
  "metadata": {
    "colab": {
      "name": "IBM Data Science Test.ipynb",
      "provenance": [],
      "collapsed_sections": [],
      "authorship_tag": "ABX9TyPiuK0NOncMjN781zHbvsdh",
      "include_colab_link": true
    },
    "kernelspec": {
      "name": "python3",
      "display_name": "Python 3"
    }
  },
  "cells": [
    {
      "cell_type": "markdown",
      "metadata": {
        "id": "view-in-github",
        "colab_type": "text"
      },
      "source": [
        "<a href=\"https://colab.research.google.com/github/ShohamWeiss/Statistics/blob/master/IBM/IBM_Data_Science_Test.ipynb\" target=\"_parent\"><img src=\"https://colab.research.google.com/assets/colab-badge.svg\" alt=\"Open In Colab\"/></a>"
      ]
    },
    {
      "cell_type": "code",
      "metadata": {
        "id": "FYt7_YlwCTlk",
        "colab_type": "code",
        "colab": {}
      },
      "source": [
        "import pandas as pd\n",
        "\n",
        "startDate = \"2013-01-01\"\n",
        "endDate = \"2013-01-01\"\n",
        "temperature = [24, 34.38, 34.36, 34.74, 35.26, 35.23, 35.29, 35.64, 36.02, 36.1, 36.98, 37.01 ,36.75, 36.01, 35.66, 34.72, 33.9, 32.62, 31.51, 30.73, 29.5, 26.94, 25.47, 23.84]\n",
        "N = 5"
      ],
      "execution_count": 1,
      "outputs": []
    },
    {
      "cell_type": "code",
      "metadata": {
        "id": "KoCvwF23YqCp",
        "colab_type": "code",
        "colab": {}
      },
      "source": [
        "import datetime\n",
        "import numpy as np\n",
        "def predictTemperature(startDate, endDate, temperature, n):\n",
        "  start = pd.to_datetime(startDate)\n",
        "  end = pd.to_datetime(endDate) + datetime.timedelta(days=1) - datetime.timedelta(minutes=60)\n",
        "  dates = pd.date_range(start, end, freq=\"60min\").tolist()\n",
        "  print(len(dates), len(temperature))\n",
        "  df = pd.DataFrame({'Date': dates, 'Temperature': temperature})\n",
        "  df.Temperature = pd.to_numeric(df.Temperature)\n",
        "  for i in range(N):\n",
        "    end = end + datetime.timedelta(minutes=60)\n",
        "    df = df.append(pd.DataFrame({'Date':[end], 'Temperature': [np.nan]}))\n",
        "  df = df.set_index('Date')\n",
        "  df = df.assign(interp = df.Temperature.interpolate(method='spline', order=2))\n",
        "  print(df)\n",
        "  return df.tail(24).interp.tolist()\n",
        "predictTemperature(startDate, endDate, temperature, N)"
      ],
      "execution_count": null,
      "outputs": []
    },
    {
      "cell_type": "code",
      "metadata": {
        "id": "vUkhaYMzY5dt",
        "colab_type": "code",
        "colab": {
          "base_uri": "https://localhost:8080/",
          "height": 282
        },
        "outputId": "84cbe076-8e9f-4446-eb13-cbddd28033df"
      },
      "source": [
        "import matplotlib.pyplot as plt\n",
        "plt.plot(temperature)"
      ],
      "execution_count": 2,
      "outputs": [
        {
          "output_type": "execute_result",
          "data": {
            "text/plain": [
              "[<matplotlib.lines.Line2D at 0x7f77c9113470>]"
            ]
          },
          "metadata": {
            "tags": []
          },
          "execution_count": 2
        },
        {
          "output_type": "display_data",
          "data": {
            "image/png": "[encoded data removed]",
            "text/plain": [
              "<Figure size 432x288 with 1 Axes>"
            ]
          },
          "metadata": {
            "tags": [],
            "needs_background": "light"
          }
        }
      ]
    },
    {
      "cell_type": "code",
      "metadata": {
        "id": "xf6_Dutaeap_",
        "colab_type": "code",
        "colab": {}
      },
      "source": [
        ""
      ],
      "execution_count": null,
      "outputs": []
    }
  ]
}