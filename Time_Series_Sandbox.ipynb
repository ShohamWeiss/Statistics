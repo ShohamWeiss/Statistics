{
  "nbformat": 4,
  "nbformat_minor": 0,
  "metadata": {
    "colab": {
      "name": "Time Series Sandbox.ipynb",
      "provenance": [],
      "authorship_tag": "ABX9TyP9MpyfWTOmMPJ+l2xnks7G",
      "include_colab_link": true
    },
    "kernelspec": {
      "name": "python3",
      "display_name": "Python 3"
    }
  },
  "cells": [
    {
      "cell_type": "markdown",
      "metadata": {
        "id": "view-in-github",
        "colab_type": "text"
      },
      "source": [
        "<a href=\"https://colab.research.google.com/github/ShohamWeiss/Statistics/blob/master/Time_Series_Sandbox.ipynb\" target=\"_parent\"><img src=\"https://colab.research.google.com/assets/colab-badge.svg\" alt=\"Open In Colab\"/></a>"
      ]
    },
    {
      "cell_type": "code",
      "metadata": {
        "id": "Y_5ZaB5XYr3h",
        "colab_type": "code",
        "colab": {}
      },
      "source": [
        "import pandas as pd\n",
        "import numpy as np\n",
        "import matplotlib.pyplot as plt"
      ],
      "execution_count": null,
      "outputs": []
    },
    {
      "cell_type": "markdown",
      "metadata": {
        "id": "0jTY3xyXDEl7",
        "colab_type": "text"
      },
      "source": [
        "# Get time series data from pc"
      ]
    },
    {
      "cell_type": "code",
      "metadata": {
        "id": "cydYwxXIlVSf",
        "colab_type": "code",
        "colab": {
          "resources": {
            "http://localhost:8080/nbextensions/google.colab/files.js": {
              "data": "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",
              "ok": true,
              "headers": [
                [
                  "content-type",
                  "application/javascript"
                ]
              ],
              "status": 200,
              "status_text": ""
            }
          },
          "base_uri": "https://localhost:8080/",
          "height": 73
        },
        "outputId": "6af69b31-ecdf-4a48-c9a4-ed8a430dcf88"
      },
      "source": [
        "from google.colab import files\n",
        "data_to_load = files.upload()"
      ],
      "execution_count": null,
      "outputs": [
        {
          "output_type": "display_data",
          "data": {
            "text/html": [
              "\n",
              "     <input type=\"file\" id=\"files-abf35689-294f-48d3-bfad-b2a781c428b3\" name=\"files[]\" multiple disabled\n",
              "        style=\"border:none\" />\n",
              "     <output id=\"result-abf35689-294f-48d3-bfad-b2a781c428b3\">\n",
              "      Upload widget is only available when the cell has been executed in the\n",
              "      current browser session. Please rerun this cell to enable.\n",
              "      </output>\n",
              "      <script src=\"/nbextensions/google.colab/files.js\"></script> "
            ],
            "text/plain": [
              "<IPython.core.display.HTML object>"
            ]
          },
          "metadata": {
            "tags": []
          }
        },
        {
          "output_type": "stream",
          "text": [
            "Saving data-ebola-public-xlsx-1.csv to data-ebola-public-xlsx-1.csv\n"
          ],
          "name": "stdout"
        }
      ]
    },
    {
      "cell_type": "code",
      "metadata": {
        "id": "aDCAC-3sR3DJ",
        "colab_type": "code",
        "colab": {}
      },
      "source": [
        "import io\n",
        "df = pd.read_csv(io.BytesIO(data_to_load['data-ebola-public-xlsx-1.csv']))"
      ],
      "execution_count": null,
      "outputs": []
    },
    {
      "cell_type": "markdown",
      "metadata": {
        "id": "7hs1bhG0DOKJ",
        "colab_type": "text"
      },
      "source": [
        "# Analyze the data and take only 1 category and 1 source"
      ]
    },
    {
      "cell_type": "code",
      "metadata": {
        "id": "NMz92ly2DS_Z",
        "colab_type": "code",
        "colab": {
          "base_uri": "https://localhost:8080/",
          "height": 195
        },
        "outputId": "547aab09-23c5-4a73-c940-cf9ba4b8bdde"
      },
      "source": [
        "# take a look\n",
        "df.head()"
      ],
      "execution_count": null,
      "outputs": [
        {
          "output_type": "execute_result",
          "data": {
            "text/html": [
              "<div>\n",
              "<style scoped>\n",
              "    .dataframe tbody tr th:only-of-type {\n",
              "        vertical-align: middle;\n",
              "    }\n",
              "\n",
              "    .dataframe tbody tr th {\n",
              "        vertical-align: top;\n",
              "    }\n",
              "\n",
              "    .dataframe thead th {\n",
              "        text-align: right;\n",
              "    }\n",
              "</style>\n",
              "<table border=\"1\" class=\"dataframe\">\n",
              "  <thead>\n",
              "    <tr style=\"text-align: right;\">\n",
              "      <th></th>\n",
              "      <th>Country</th>\n",
              "      <th>Localite</th>\n",
              "      <th>Category</th>\n",
              "      <th>Value</th>\n",
              "      <th>Date</th>\n",
              "      <th>Sources</th>\n",
              "      <th>Link</th>\n",
              "    </tr>\n",
              "  </thead>\n",
              "  <tbody>\n",
              "    <tr>\n",
              "      <th>0</th>\n",
              "      <td>Guinea</td>\n",
              "      <td>Guekedou, Macenta, Nzerekore and Kissidougou</td>\n",
              "      <td>Cases</td>\n",
              "      <td>86</td>\n",
              "      <td>3/24/2014</td>\n",
              "      <td>WHO</td>\n",
              "      <td>http://reliefweb.int/sites/reliefweb.int/files...</td>\n",
              "    </tr>\n",
              "    <tr>\n",
              "      <th>1</th>\n",
              "      <td>Guinea</td>\n",
              "      <td>Guekedou, Macenta, Nzerekore and Kissidougou</td>\n",
              "      <td>Deaths</td>\n",
              "      <td>59</td>\n",
              "      <td>3/24/2014</td>\n",
              "      <td>WHO</td>\n",
              "      <td>http://reliefweb.int/sites/reliefweb.int/files...</td>\n",
              "    </tr>\n",
              "    <tr>\n",
              "      <th>2</th>\n",
              "      <td>Guinea</td>\n",
              "      <td>( Guekedou, Macenta and Kissidougou</td>\n",
              "      <td>Cases</td>\n",
              "      <td>86</td>\n",
              "      <td>3/25/2014</td>\n",
              "      <td>WHO</td>\n",
              "      <td>http://reliefweb.int/sites/reliefweb.int/files...</td>\n",
              "    </tr>\n",
              "    <tr>\n",
              "      <th>3</th>\n",
              "      <td>Guinea</td>\n",
              "      <td>( Guekedou, Macenta and Kissidougou</td>\n",
              "      <td>Deaths</td>\n",
              "      <td>60</td>\n",
              "      <td>3/25/2014</td>\n",
              "      <td>WHO</td>\n",
              "      <td>http://reliefweb.int/sites/reliefweb.int/files...</td>\n",
              "    </tr>\n",
              "    <tr>\n",
              "      <th>4</th>\n",
              "      <td>Guinea</td>\n",
              "      <td>( Guekedou, Macenta and Kissidougou</td>\n",
              "      <td>Cases</td>\n",
              "      <td>86</td>\n",
              "      <td>3/26/2014</td>\n",
              "      <td>WHO</td>\n",
              "      <td>http://reliefweb.int/report/guinea/fi-vre-h-mo...</td>\n",
              "    </tr>\n",
              "  </tbody>\n",
              "</table>\n",
              "</div>"
            ],
            "text/plain": [
              "  Country  ...                                               Link\n",
              "0  Guinea  ...  http://reliefweb.int/sites/reliefweb.int/files...\n",
              "1  Guinea  ...  http://reliefweb.int/sites/reliefweb.int/files...\n",
              "2  Guinea  ...  http://reliefweb.int/sites/reliefweb.int/files...\n",
              "3  Guinea  ...  http://reliefweb.int/sites/reliefweb.int/files...\n",
              "4  Guinea  ...  http://reliefweb.int/report/guinea/fi-vre-h-mo...\n",
              "\n",
              "[5 rows x 7 columns]"
            ]
          },
          "metadata": {
            "tags": []
          },
          "execution_count": 140
        }
      ]
    },
    {
      "cell_type": "code",
      "metadata": {
        "id": "fO1vVFnIUXlW",
        "colab_type": "code",
        "colab": {
          "base_uri": "https://localhost:8080/",
          "height": 402
        },
        "outputId": "131d02d2-f9e1-4622-c832-ea07933394f7"
      },
      "source": [
        "# filter to category: deaths and sources: WHO\n",
        "df = df[(df['Category'] == 'Deaths') & (df.Sources == 'WHO')]\n",
        "df"
      ],
      "execution_count": null,
      "outputs": [
        {
          "output_type": "execute_result",
          "data": {
            "text/html": [
              "<div>\n",
              "<style scoped>\n",
              "    .dataframe tbody tr th:only-of-type {\n",
              "        vertical-align: middle;\n",
              "    }\n",
              "\n",
              "    .dataframe tbody tr th {\n",
              "        vertical-align: top;\n",
              "    }\n",
              "\n",
              "    .dataframe thead th {\n",
              "        text-align: right;\n",
              "    }\n",
              "</style>\n",
              "<table border=\"1\" class=\"dataframe\">\n",
              "  <thead>\n",
              "    <tr style=\"text-align: right;\">\n",
              "      <th></th>\n",
              "      <th>Country</th>\n",
              "      <th>Localite</th>\n",
              "      <th>Category</th>\n",
              "      <th>Value</th>\n",
              "      <th>Date</th>\n",
              "      <th>Sources</th>\n",
              "      <th>Link</th>\n",
              "    </tr>\n",
              "  </thead>\n",
              "  <tbody>\n",
              "    <tr>\n",
              "      <th>1</th>\n",
              "      <td>Guinea</td>\n",
              "      <td>Guekedou, Macenta, Nzerekore and Kissidougou</td>\n",
              "      <td>Deaths</td>\n",
              "      <td>59</td>\n",
              "      <td>3/24/2014</td>\n",
              "      <td>WHO</td>\n",
              "      <td>http://reliefweb.int/sites/reliefweb.int/files...</td>\n",
              "    </tr>\n",
              "    <tr>\n",
              "      <th>3</th>\n",
              "      <td>Guinea</td>\n",
              "      <td>( Guekedou, Macenta and Kissidougou</td>\n",
              "      <td>Deaths</td>\n",
              "      <td>60</td>\n",
              "      <td>3/25/2014</td>\n",
              "      <td>WHO</td>\n",
              "      <td>http://reliefweb.int/sites/reliefweb.int/files...</td>\n",
              "    </tr>\n",
              "    <tr>\n",
              "      <th>5</th>\n",
              "      <td>Guinea</td>\n",
              "      <td>( Guekedou, Macenta and Kissidougou)</td>\n",
              "      <td>Deaths</td>\n",
              "      <td>62</td>\n",
              "      <td>3/26/2014</td>\n",
              "      <td>WHO</td>\n",
              "      <td>http://reliefweb.int/report/guinea/fi-vre-h-mo...</td>\n",
              "    </tr>\n",
              "    <tr>\n",
              "      <th>7</th>\n",
              "      <td>Guinea</td>\n",
              "      <td>( Guekedou, Macenta and Kissidougou)</td>\n",
              "      <td>Deaths</td>\n",
              "      <td>66</td>\n",
              "      <td>3/27/2014</td>\n",
              "      <td>WHO</td>\n",
              "      <td>http://reliefweb.int/report/guinea/ebola-haemo...</td>\n",
              "    </tr>\n",
              "    <tr>\n",
              "      <th>8</th>\n",
              "      <td>Guinea</td>\n",
              "      <td>( Guekedou, Macenta,Kissidougou,Lofa,Kankan an...</td>\n",
              "      <td>Deaths</td>\n",
              "      <td>70</td>\n",
              "      <td>3/28/2014</td>\n",
              "      <td>WHO</td>\n",
              "      <td>http://reliefweb.int/report/guinea/situation-d...</td>\n",
              "    </tr>\n",
              "    <tr>\n",
              "      <th>...</th>\n",
              "      <td>...</td>\n",
              "      <td>...</td>\n",
              "      <td>...</td>\n",
              "      <td>...</td>\n",
              "      <td>...</td>\n",
              "      <td>...</td>\n",
              "      <td>...</td>\n",
              "    </tr>\n",
              "    <tr>\n",
              "      <th>26351</th>\n",
              "      <td>Mali</td>\n",
              "      <td>Koulikoro</td>\n",
              "      <td>Deaths</td>\n",
              "      <td>0</td>\n",
              "      <td>11/25/2014</td>\n",
              "      <td>WHO</td>\n",
              "      <td>http://www.clustersantemali.net/docs/Epidemio/...</td>\n",
              "    </tr>\n",
              "    <tr>\n",
              "      <th>26357</th>\n",
              "      <td>Mali</td>\n",
              "      <td>Kourémalé</td>\n",
              "      <td>Deaths</td>\n",
              "      <td>0</td>\n",
              "      <td>11/25/2014</td>\n",
              "      <td>WHO</td>\n",
              "      <td>http://www.clustersantemali.net/docs/Epidemio/...</td>\n",
              "    </tr>\n",
              "    <tr>\n",
              "      <th>26363</th>\n",
              "      <td>Mali</td>\n",
              "      <td>Koutiala</td>\n",
              "      <td>Deaths</td>\n",
              "      <td>0</td>\n",
              "      <td>11/25/2014</td>\n",
              "      <td>WHO</td>\n",
              "      <td>http://www.clustersantemali.net/docs/Epidemio/...</td>\n",
              "    </tr>\n",
              "    <tr>\n",
              "      <th>26369</th>\n",
              "      <td>Mali</td>\n",
              "      <td>National</td>\n",
              "      <td>Deaths</td>\n",
              "      <td>6</td>\n",
              "      <td>11/25/2014</td>\n",
              "      <td>WHO</td>\n",
              "      <td>http://www.clustersantemali.net/docs/Epidemio/...</td>\n",
              "    </tr>\n",
              "    <tr>\n",
              "      <th>26375</th>\n",
              "      <td>Mali</td>\n",
              "      <td>Sélingué</td>\n",
              "      <td>Deaths</td>\n",
              "      <td>0</td>\n",
              "      <td>11/25/2014</td>\n",
              "      <td>WHO</td>\n",
              "      <td>http://www.clustersantemali.net/docs/Epidemio/...</td>\n",
              "    </tr>\n",
              "  </tbody>\n",
              "</table>\n",
              "<p>355 rows × 7 columns</p>\n",
              "</div>"
            ],
            "text/plain": [
              "      Country  ...                                               Link\n",
              "1      Guinea  ...  http://reliefweb.int/sites/reliefweb.int/files...\n",
              "3      Guinea  ...  http://reliefweb.int/sites/reliefweb.int/files...\n",
              "5      Guinea  ...  http://reliefweb.int/report/guinea/fi-vre-h-mo...\n",
              "7      Guinea  ...  http://reliefweb.int/report/guinea/ebola-haemo...\n",
              "8      Guinea  ...  http://reliefweb.int/report/guinea/situation-d...\n",
              "...       ...  ...                                                ...\n",
              "26351    Mali  ...  http://www.clustersantemali.net/docs/Epidemio/...\n",
              "26357    Mali  ...  http://www.clustersantemali.net/docs/Epidemio/...\n",
              "26363    Mali  ...  http://www.clustersantemali.net/docs/Epidemio/...\n",
              "26369    Mali  ...  http://www.clustersantemali.net/docs/Epidemio/...\n",
              "26375    Mali  ...  http://www.clustersantemali.net/docs/Epidemio/...\n",
              "\n",
              "[355 rows x 7 columns]"
            ]
          },
          "metadata": {
            "tags": []
          },
          "execution_count": 141
        }
      ]
    },
    {
      "cell_type": "code",
      "metadata": {
        "id": "LAXPrOT0hL7N",
        "colab_type": "code",
        "colab": {
          "base_uri": "https://localhost:8080/",
          "height": 431
        },
        "outputId": "eadc9420-68ee-47eb-eac7-de233c2106b5"
      },
      "source": [
        "# Make date the index\n",
        "df.Date = pd.to_datetime(df.Date, format='%m/%d/%Y')\n",
        "df = df.set_index('Date')\n",
        "df"
      ],
      "execution_count": null,
      "outputs": [
        {
          "output_type": "execute_result",
          "data": {
            "text/html": [
              "<div>\n",
              "<style scoped>\n",
              "    .dataframe tbody tr th:only-of-type {\n",
              "        vertical-align: middle;\n",
              "    }\n",
              "\n",
              "    .dataframe tbody tr th {\n",
              "        vertical-align: top;\n",
              "    }\n",
              "\n",
              "    .dataframe thead th {\n",
              "        text-align: right;\n",
              "    }\n",
              "</style>\n",
              "<table border=\"1\" class=\"dataframe\">\n",
              "  <thead>\n",
              "    <tr style=\"text-align: right;\">\n",
              "      <th></th>\n",
              "      <th>Country</th>\n",
              "      <th>Localite</th>\n",
              "      <th>Category</th>\n",
              "      <th>Value</th>\n",
              "      <th>Sources</th>\n",
              "      <th>Link</th>\n",
              "    </tr>\n",
              "    <tr>\n",
              "      <th>Date</th>\n",
              "      <th></th>\n",
              "      <th></th>\n",
              "      <th></th>\n",
              "      <th></th>\n",
              "      <th></th>\n",
              "      <th></th>\n",
              "    </tr>\n",
              "  </thead>\n",
              "  <tbody>\n",
              "    <tr>\n",
              "      <th>2014-03-24</th>\n",
              "      <td>Guinea</td>\n",
              "      <td>Guekedou, Macenta, Nzerekore and Kissidougou</td>\n",
              "      <td>Deaths</td>\n",
              "      <td>59</td>\n",
              "      <td>WHO</td>\n",
              "      <td>http://reliefweb.int/sites/reliefweb.int/files...</td>\n",
              "    </tr>\n",
              "    <tr>\n",
              "      <th>2014-03-25</th>\n",
              "      <td>Guinea</td>\n",
              "      <td>( Guekedou, Macenta and Kissidougou</td>\n",
              "      <td>Deaths</td>\n",
              "      <td>60</td>\n",
              "      <td>WHO</td>\n",
              "      <td>http://reliefweb.int/sites/reliefweb.int/files...</td>\n",
              "    </tr>\n",
              "    <tr>\n",
              "      <th>2014-03-26</th>\n",
              "      <td>Guinea</td>\n",
              "      <td>( Guekedou, Macenta and Kissidougou)</td>\n",
              "      <td>Deaths</td>\n",
              "      <td>62</td>\n",
              "      <td>WHO</td>\n",
              "      <td>http://reliefweb.int/report/guinea/fi-vre-h-mo...</td>\n",
              "    </tr>\n",
              "    <tr>\n",
              "      <th>2014-03-27</th>\n",
              "      <td>Guinea</td>\n",
              "      <td>( Guekedou, Macenta and Kissidougou)</td>\n",
              "      <td>Deaths</td>\n",
              "      <td>66</td>\n",
              "      <td>WHO</td>\n",
              "      <td>http://reliefweb.int/report/guinea/ebola-haemo...</td>\n",
              "    </tr>\n",
              "    <tr>\n",
              "      <th>2014-03-28</th>\n",
              "      <td>Guinea</td>\n",
              "      <td>( Guekedou, Macenta,Kissidougou,Lofa,Kankan an...</td>\n",
              "      <td>Deaths</td>\n",
              "      <td>70</td>\n",
              "      <td>WHO</td>\n",
              "      <td>http://reliefweb.int/report/guinea/situation-d...</td>\n",
              "    </tr>\n",
              "    <tr>\n",
              "      <th>...</th>\n",
              "      <td>...</td>\n",
              "      <td>...</td>\n",
              "      <td>...</td>\n",
              "      <td>...</td>\n",
              "      <td>...</td>\n",
              "      <td>...</td>\n",
              "    </tr>\n",
              "    <tr>\n",
              "      <th>2014-11-25</th>\n",
              "      <td>Mali</td>\n",
              "      <td>Koulikoro</td>\n",
              "      <td>Deaths</td>\n",
              "      <td>0</td>\n",
              "      <td>WHO</td>\n",
              "      <td>http://www.clustersantemali.net/docs/Epidemio/...</td>\n",
              "    </tr>\n",
              "    <tr>\n",
              "      <th>2014-11-25</th>\n",
              "      <td>Mali</td>\n",
              "      <td>Kourémalé</td>\n",
              "      <td>Deaths</td>\n",
              "      <td>0</td>\n",
              "      <td>WHO</td>\n",
              "      <td>http://www.clustersantemali.net/docs/Epidemio/...</td>\n",
              "    </tr>\n",
              "    <tr>\n",
              "      <th>2014-11-25</th>\n",
              "      <td>Mali</td>\n",
              "      <td>Koutiala</td>\n",
              "      <td>Deaths</td>\n",
              "      <td>0</td>\n",
              "      <td>WHO</td>\n",
              "      <td>http://www.clustersantemali.net/docs/Epidemio/...</td>\n",
              "    </tr>\n",
              "    <tr>\n",
              "      <th>2014-11-25</th>\n",
              "      <td>Mali</td>\n",
              "      <td>National</td>\n",
              "      <td>Deaths</td>\n",
              "      <td>6</td>\n",
              "      <td>WHO</td>\n",
              "      <td>http://www.clustersantemali.net/docs/Epidemio/...</td>\n",
              "    </tr>\n",
              "    <tr>\n",
              "      <th>2014-11-25</th>\n",
              "      <td>Mali</td>\n",
              "      <td>Sélingué</td>\n",
              "      <td>Deaths</td>\n",
              "      <td>0</td>\n",
              "      <td>WHO</td>\n",
              "      <td>http://www.clustersantemali.net/docs/Epidemio/...</td>\n",
              "    </tr>\n",
              "  </tbody>\n",
              "</table>\n",
              "<p>355 rows × 6 columns</p>\n",
              "</div>"
            ],
            "text/plain": [
              "           Country  ...                                               Link\n",
              "Date                ...                                                   \n",
              "2014-03-24  Guinea  ...  http://reliefweb.int/sites/reliefweb.int/files...\n",
              "2014-03-25  Guinea  ...  http://reliefweb.int/sites/reliefweb.int/files...\n",
              "2014-03-26  Guinea  ...  http://reliefweb.int/report/guinea/fi-vre-h-mo...\n",
              "2014-03-27  Guinea  ...  http://reliefweb.int/report/guinea/ebola-haemo...\n",
              "2014-03-28  Guinea  ...  http://reliefweb.int/report/guinea/situation-d...\n",
              "...            ...  ...                                                ...\n",
              "2014-11-25    Mali  ...  http://www.clustersantemali.net/docs/Epidemio/...\n",
              "2014-11-25    Mali  ...  http://www.clustersantemali.net/docs/Epidemio/...\n",
              "2014-11-25    Mali  ...  http://www.clustersantemali.net/docs/Epidemio/...\n",
              "2014-11-25    Mali  ...  http://www.clustersantemali.net/docs/Epidemio/...\n",
              "2014-11-25    Mali  ...  http://www.clustersantemali.net/docs/Epidemio/...\n",
              "\n",
              "[355 rows x 6 columns]"
            ]
          },
          "metadata": {
            "tags": []
          },
          "execution_count": 142
        }
      ]
    },
    {
      "cell_type": "code",
      "metadata": {
        "id": "9udWEejZhMSh",
        "colab_type": "code",
        "colab": {
          "base_uri": "https://localhost:8080/",
          "height": 431
        },
        "outputId": "5088738e-6286-4dbf-a439-9874f3d7287b"
      },
      "source": [
        "# Set Column Value to integer\n",
        "df['Value'] = pd.to_numeric(df['Value'], downcast='integer')\n",
        "df"
      ],
      "execution_count": null,
      "outputs": [
        {
          "output_type": "execute_result",
          "data": {
            "text/html": [
              "<div>\n",
              "<style scoped>\n",
              "    .dataframe tbody tr th:only-of-type {\n",
              "        vertical-align: middle;\n",
              "    }\n",
              "\n",
              "    .dataframe tbody tr th {\n",
              "        vertical-align: top;\n",
              "    }\n",
              "\n",
              "    .dataframe thead th {\n",
              "        text-align: right;\n",
              "    }\n",
              "</style>\n",
              "<table border=\"1\" class=\"dataframe\">\n",
              "  <thead>\n",
              "    <tr style=\"text-align: right;\">\n",
              "      <th></th>\n",
              "      <th>Country</th>\n",
              "      <th>Localite</th>\n",
              "      <th>Category</th>\n",
              "      <th>Value</th>\n",
              "      <th>Sources</th>\n",
              "      <th>Link</th>\n",
              "    </tr>\n",
              "    <tr>\n",
              "      <th>Date</th>\n",
              "      <th></th>\n",
              "      <th></th>\n",
              "      <th></th>\n",
              "      <th></th>\n",
              "      <th></th>\n",
              "      <th></th>\n",
              "    </tr>\n",
              "  </thead>\n",
              "  <tbody>\n",
              "    <tr>\n",
              "      <th>2014-03-24</th>\n",
              "      <td>Guinea</td>\n",
              "      <td>Guekedou, Macenta, Nzerekore and Kissidougou</td>\n",
              "      <td>Deaths</td>\n",
              "      <td>59.0</td>\n",
              "      <td>WHO</td>\n",
              "      <td>http://reliefweb.int/sites/reliefweb.int/files...</td>\n",
              "    </tr>\n",
              "    <tr>\n",
              "      <th>2014-03-25</th>\n",
              "      <td>Guinea</td>\n",
              "      <td>( Guekedou, Macenta and Kissidougou</td>\n",
              "      <td>Deaths</td>\n",
              "      <td>60.0</td>\n",
              "      <td>WHO</td>\n",
              "      <td>http://reliefweb.int/sites/reliefweb.int/files...</td>\n",
              "    </tr>\n",
              "    <tr>\n",
              "      <th>2014-03-26</th>\n",
              "      <td>Guinea</td>\n",
              "      <td>( Guekedou, Macenta and Kissidougou)</td>\n",
              "      <td>Deaths</td>\n",
              "      <td>62.0</td>\n",
              "      <td>WHO</td>\n",
              "      <td>http://reliefweb.int/report/guinea/fi-vre-h-mo...</td>\n",
              "    </tr>\n",
              "    <tr>\n",
              "      <th>2014-03-27</th>\n",
              "      <td>Guinea</td>\n",
              "      <td>( Guekedou, Macenta and Kissidougou)</td>\n",
              "      <td>Deaths</td>\n",
              "      <td>66.0</td>\n",
              "      <td>WHO</td>\n",
              "      <td>http://reliefweb.int/report/guinea/ebola-haemo...</td>\n",
              "    </tr>\n",
              "    <tr>\n",
              "      <th>2014-03-28</th>\n",
              "      <td>Guinea</td>\n",
              "      <td>( Guekedou, Macenta,Kissidougou,Lofa,Kankan an...</td>\n",
              "      <td>Deaths</td>\n",
              "      <td>70.0</td>\n",
              "      <td>WHO</td>\n",
              "      <td>http://reliefweb.int/report/guinea/situation-d...</td>\n",
              "    </tr>\n",
              "    <tr>\n",
              "      <th>...</th>\n",
              "      <td>...</td>\n",
              "      <td>...</td>\n",
              "      <td>...</td>\n",
              "      <td>...</td>\n",
              "      <td>...</td>\n",
              "      <td>...</td>\n",
              "    </tr>\n",
              "    <tr>\n",
              "      <th>2014-11-25</th>\n",
              "      <td>Mali</td>\n",
              "      <td>Koulikoro</td>\n",
              "      <td>Deaths</td>\n",
              "      <td>0.0</td>\n",
              "      <td>WHO</td>\n",
              "      <td>http://www.clustersantemali.net/docs/Epidemio/...</td>\n",
              "    </tr>\n",
              "    <tr>\n",
              "      <th>2014-11-25</th>\n",
              "      <td>Mali</td>\n",
              "      <td>Kourémalé</td>\n",
              "      <td>Deaths</td>\n",
              "      <td>0.0</td>\n",
              "      <td>WHO</td>\n",
              "      <td>http://www.clustersantemali.net/docs/Epidemio/...</td>\n",
              "    </tr>\n",
              "    <tr>\n",
              "      <th>2014-11-25</th>\n",
              "      <td>Mali</td>\n",
              "      <td>Koutiala</td>\n",
              "      <td>Deaths</td>\n",
              "      <td>0.0</td>\n",
              "      <td>WHO</td>\n",
              "      <td>http://www.clustersantemali.net/docs/Epidemio/...</td>\n",
              "    </tr>\n",
              "    <tr>\n",
              "      <th>2014-11-25</th>\n",
              "      <td>Mali</td>\n",
              "      <td>National</td>\n",
              "      <td>Deaths</td>\n",
              "      <td>6.0</td>\n",
              "      <td>WHO</td>\n",
              "      <td>http://www.clustersantemali.net/docs/Epidemio/...</td>\n",
              "    </tr>\n",
              "    <tr>\n",
              "      <th>2014-11-25</th>\n",
              "      <td>Mali</td>\n",
              "      <td>Sélingué</td>\n",
              "      <td>Deaths</td>\n",
              "      <td>0.0</td>\n",
              "      <td>WHO</td>\n",
              "      <td>http://www.clustersantemali.net/docs/Epidemio/...</td>\n",
              "    </tr>\n",
              "  </tbody>\n",
              "</table>\n",
              "<p>355 rows × 6 columns</p>\n",
              "</div>"
            ],
            "text/plain": [
              "           Country  ...                                               Link\n",
              "Date                ...                                                   \n",
              "2014-03-24  Guinea  ...  http://reliefweb.int/sites/reliefweb.int/files...\n",
              "2014-03-25  Guinea  ...  http://reliefweb.int/sites/reliefweb.int/files...\n",
              "2014-03-26  Guinea  ...  http://reliefweb.int/report/guinea/fi-vre-h-mo...\n",
              "2014-03-27  Guinea  ...  http://reliefweb.int/report/guinea/ebola-haemo...\n",
              "2014-03-28  Guinea  ...  http://reliefweb.int/report/guinea/situation-d...\n",
              "...            ...  ...                                                ...\n",
              "2014-11-25    Mali  ...  http://www.clustersantemali.net/docs/Epidemio/...\n",
              "2014-11-25    Mali  ...  http://www.clustersantemali.net/docs/Epidemio/...\n",
              "2014-11-25    Mali  ...  http://www.clustersantemali.net/docs/Epidemio/...\n",
              "2014-11-25    Mali  ...  http://www.clustersantemali.net/docs/Epidemio/...\n",
              "2014-11-25    Mali  ...  http://www.clustersantemali.net/docs/Epidemio/...\n",
              "\n",
              "[355 rows x 6 columns]"
            ]
          },
          "metadata": {
            "tags": []
          },
          "execution_count": 143
        }
      ]
    },
    {
      "cell_type": "code",
      "metadata": {
        "id": "3DyDL7ATh5QW",
        "colab_type": "code",
        "colab": {
          "base_uri": "https://localhost:8080/",
          "height": 431
        },
        "outputId": "7998dd4b-3a44-4dac-8b31-30f5742ceaaf"
      },
      "source": [
        "# make a copy of value to a new column\n",
        "df['Missing_Data'] = df['Value']\n",
        "df"
      ],
      "execution_count": null,
      "outputs": [
        {
          "output_type": "execute_result",
          "data": {
            "text/html": [
              "<div>\n",
              "<style scoped>\n",
              "    .dataframe tbody tr th:only-of-type {\n",
              "        vertical-align: middle;\n",
              "    }\n",
              "\n",
              "    .dataframe tbody tr th {\n",
              "        vertical-align: top;\n",
              "    }\n",
              "\n",
              "    .dataframe thead th {\n",
              "        text-align: right;\n",
              "    }\n",
              "</style>\n",
              "<table border=\"1\" class=\"dataframe\">\n",
              "  <thead>\n",
              "    <tr style=\"text-align: right;\">\n",
              "      <th></th>\n",
              "      <th>Country</th>\n",
              "      <th>Localite</th>\n",
              "      <th>Category</th>\n",
              "      <th>Value</th>\n",
              "      <th>Sources</th>\n",
              "      <th>Link</th>\n",
              "      <th>Missing_Data</th>\n",
              "    </tr>\n",
              "    <tr>\n",
              "      <th>Date</th>\n",
              "      <th></th>\n",
              "      <th></th>\n",
              "      <th></th>\n",
              "      <th></th>\n",
              "      <th></th>\n",
              "      <th></th>\n",
              "      <th></th>\n",
              "    </tr>\n",
              "  </thead>\n",
              "  <tbody>\n",
              "    <tr>\n",
              "      <th>2014-03-24</th>\n",
              "      <td>Guinea</td>\n",
              "      <td>Guekedou, Macenta, Nzerekore and Kissidougou</td>\n",
              "      <td>Deaths</td>\n",
              "      <td>59.0</td>\n",
              "      <td>WHO</td>\n",
              "      <td>http://reliefweb.int/sites/reliefweb.int/files...</td>\n",
              "      <td>59.0</td>\n",
              "    </tr>\n",
              "    <tr>\n",
              "      <th>2014-03-25</th>\n",
              "      <td>Guinea</td>\n",
              "      <td>( Guekedou, Macenta and Kissidougou</td>\n",
              "      <td>Deaths</td>\n",
              "      <td>60.0</td>\n",
              "      <td>WHO</td>\n",
              "      <td>http://reliefweb.int/sites/reliefweb.int/files...</td>\n",
              "      <td>60.0</td>\n",
              "    </tr>\n",
              "    <tr>\n",
              "      <th>2014-03-26</th>\n",
              "      <td>Guinea</td>\n",
              "      <td>( Guekedou, Macenta and Kissidougou)</td>\n",
              "      <td>Deaths</td>\n",
              "      <td>62.0</td>\n",
              "      <td>WHO</td>\n",
              "      <td>http://reliefweb.int/report/guinea/fi-vre-h-mo...</td>\n",
              "      <td>62.0</td>\n",
              "    </tr>\n",
              "    <tr>\n",
              "      <th>2014-03-27</th>\n",
              "      <td>Guinea</td>\n",
              "      <td>( Guekedou, Macenta and Kissidougou)</td>\n",
              "      <td>Deaths</td>\n",
              "      <td>66.0</td>\n",
              "      <td>WHO</td>\n",
              "      <td>http://reliefweb.int/report/guinea/ebola-haemo...</td>\n",
              "      <td>66.0</td>\n",
              "    </tr>\n",
              "    <tr>\n",
              "      <th>2014-03-28</th>\n",
              "      <td>Guinea</td>\n",
              "      <td>( Guekedou, Macenta,Kissidougou,Lofa,Kankan an...</td>\n",
              "      <td>Deaths</td>\n",
              "      <td>70.0</td>\n",
              "      <td>WHO</td>\n",
              "      <td>http://reliefweb.int/report/guinea/situation-d...</td>\n",
              "      <td>70.0</td>\n",
              "    </tr>\n",
              "    <tr>\n",
              "      <th>...</th>\n",
              "      <td>...</td>\n",
              "      <td>...</td>\n",
              "      <td>...</td>\n",
              "      <td>...</td>\n",
              "      <td>...</td>\n",
              "      <td>...</td>\n",
              "      <td>...</td>\n",
              "    </tr>\n",
              "    <tr>\n",
              "      <th>2014-11-25</th>\n",
              "      <td>Mali</td>\n",
              "      <td>Koulikoro</td>\n",
              "      <td>Deaths</td>\n",
              "      <td>0.0</td>\n",
              "      <td>WHO</td>\n",
              "      <td>http://www.clustersantemali.net/docs/Epidemio/...</td>\n",
              "      <td>0.0</td>\n",
              "    </tr>\n",
              "    <tr>\n",
              "      <th>2014-11-25</th>\n",
              "      <td>Mali</td>\n",
              "      <td>Kourémalé</td>\n",
              "      <td>Deaths</td>\n",
              "      <td>0.0</td>\n",
              "      <td>WHO</td>\n",
              "      <td>http://www.clustersantemali.net/docs/Epidemio/...</td>\n",
              "      <td>0.0</td>\n",
              "    </tr>\n",
              "    <tr>\n",
              "      <th>2014-11-25</th>\n",
              "      <td>Mali</td>\n",
              "      <td>Koutiala</td>\n",
              "      <td>Deaths</td>\n",
              "      <td>0.0</td>\n",
              "      <td>WHO</td>\n",
              "      <td>http://www.clustersantemali.net/docs/Epidemio/...</td>\n",
              "      <td>0.0</td>\n",
              "    </tr>\n",
              "    <tr>\n",
              "      <th>2014-11-25</th>\n",
              "      <td>Mali</td>\n",
              "      <td>National</td>\n",
              "      <td>Deaths</td>\n",
              "      <td>6.0</td>\n",
              "      <td>WHO</td>\n",
              "      <td>http://www.clustersantemali.net/docs/Epidemio/...</td>\n",
              "      <td>6.0</td>\n",
              "    </tr>\n",
              "    <tr>\n",
              "      <th>2014-11-25</th>\n",
              "      <td>Mali</td>\n",
              "      <td>Sélingué</td>\n",
              "      <td>Deaths</td>\n",
              "      <td>0.0</td>\n",
              "      <td>WHO</td>\n",
              "      <td>http://www.clustersantemali.net/docs/Epidemio/...</td>\n",
              "      <td>0.0</td>\n",
              "    </tr>\n",
              "  </tbody>\n",
              "</table>\n",
              "<p>355 rows × 7 columns</p>\n",
              "</div>"
            ],
            "text/plain": [
              "           Country  ... Missing_Data\n",
              "Date                ...             \n",
              "2014-03-24  Guinea  ...         59.0\n",
              "2014-03-25  Guinea  ...         60.0\n",
              "2014-03-26  Guinea  ...         62.0\n",
              "2014-03-27  Guinea  ...         66.0\n",
              "2014-03-28  Guinea  ...         70.0\n",
              "...            ...  ...          ...\n",
              "2014-11-25    Mali  ...          0.0\n",
              "2014-11-25    Mali  ...          0.0\n",
              "2014-11-25    Mali  ...          0.0\n",
              "2014-11-25    Mali  ...          6.0\n",
              "2014-11-25    Mali  ...          0.0\n",
              "\n",
              "[355 rows x 7 columns]"
            ]
          },
          "metadata": {
            "tags": []
          },
          "execution_count": 144
        }
      ]
    },
    {
      "cell_type": "code",
      "metadata": {
        "id": "ytW3E2z8h5tk",
        "colab_type": "code",
        "colab": {
          "base_uri": "https://localhost:8080/",
          "height": 431
        },
        "outputId": "92b282d1-5b20-435e-f736-4140fc316939"
      },
      "source": [
        "# Only look at Value and Missing_Data Columns\n",
        "df = df.filter(['Value', 'Missing_Data'])\n",
        "df"
      ],
      "execution_count": null,
      "outputs": [
        {
          "output_type": "execute_result",
          "data": {
            "text/html": [
              "<div>\n",
              "<style scoped>\n",
              "    .dataframe tbody tr th:only-of-type {\n",
              "        vertical-align: middle;\n",
              "    }\n",
              "\n",
              "    .dataframe tbody tr th {\n",
              "        vertical-align: top;\n",
              "    }\n",
              "\n",
              "    .dataframe thead th {\n",
              "        text-align: right;\n",
              "    }\n",
              "</style>\n",
              "<table border=\"1\" class=\"dataframe\">\n",
              "  <thead>\n",
              "    <tr style=\"text-align: right;\">\n",
              "      <th></th>\n",
              "      <th>Value</th>\n",
              "      <th>Missing_Data</th>\n",
              "    </tr>\n",
              "    <tr>\n",
              "      <th>Date</th>\n",
              "      <th></th>\n",
              "      <th></th>\n",
              "    </tr>\n",
              "  </thead>\n",
              "  <tbody>\n",
              "    <tr>\n",
              "      <th>2014-03-24</th>\n",
              "      <td>59.0</td>\n",
              "      <td>59.0</td>\n",
              "    </tr>\n",
              "    <tr>\n",
              "      <th>2014-03-25</th>\n",
              "      <td>60.0</td>\n",
              "      <td>60.0</td>\n",
              "    </tr>\n",
              "    <tr>\n",
              "      <th>2014-03-26</th>\n",
              "      <td>62.0</td>\n",
              "      <td>62.0</td>\n",
              "    </tr>\n",
              "    <tr>\n",
              "      <th>2014-03-27</th>\n",
              "      <td>66.0</td>\n",
              "      <td>66.0</td>\n",
              "    </tr>\n",
              "    <tr>\n",
              "      <th>2014-03-28</th>\n",
              "      <td>70.0</td>\n",
              "      <td>70.0</td>\n",
              "    </tr>\n",
              "    <tr>\n",
              "      <th>...</th>\n",
              "      <td>...</td>\n",
              "      <td>...</td>\n",
              "    </tr>\n",
              "    <tr>\n",
              "      <th>2014-11-25</th>\n",
              "      <td>0.0</td>\n",
              "      <td>0.0</td>\n",
              "    </tr>\n",
              "    <tr>\n",
              "      <th>2014-11-25</th>\n",
              "      <td>0.0</td>\n",
              "      <td>0.0</td>\n",
              "    </tr>\n",
              "    <tr>\n",
              "      <th>2014-11-25</th>\n",
              "      <td>0.0</td>\n",
              "      <td>0.0</td>\n",
              "    </tr>\n",
              "    <tr>\n",
              "      <th>2014-11-25</th>\n",
              "      <td>6.0</td>\n",
              "      <td>6.0</td>\n",
              "    </tr>\n",
              "    <tr>\n",
              "      <th>2014-11-25</th>\n",
              "      <td>0.0</td>\n",
              "      <td>0.0</td>\n",
              "    </tr>\n",
              "  </tbody>\n",
              "</table>\n",
              "<p>355 rows × 2 columns</p>\n",
              "</div>"
            ],
            "text/plain": [
              "            Value  Missing_Data\n",
              "Date                           \n",
              "2014-03-24   59.0          59.0\n",
              "2014-03-25   60.0          60.0\n",
              "2014-03-26   62.0          62.0\n",
              "2014-03-27   66.0          66.0\n",
              "2014-03-28   70.0          70.0\n",
              "...           ...           ...\n",
              "2014-11-25    0.0           0.0\n",
              "2014-11-25    0.0           0.0\n",
              "2014-11-25    0.0           0.0\n",
              "2014-11-25    6.0           6.0\n",
              "2014-11-25    0.0           0.0\n",
              "\n",
              "[355 rows x 2 columns]"
            ]
          },
          "metadata": {
            "tags": []
          },
          "execution_count": 145
        }
      ]
    },
    {
      "cell_type": "code",
      "metadata": {
        "id": "NOxra8EphMhr",
        "colab_type": "code",
        "colab": {
          "base_uri": "https://localhost:8080/",
          "height": 151
        },
        "outputId": "876fc884-ba42-4e53-fc64-956bc3fa4786"
      },
      "source": [
        "# Order by datetime\n",
        "df = df.groupby(df.index).sum()\n",
        "print(df.shape)\n",
        "print(df.tail())"
      ],
      "execution_count": null,
      "outputs": [
        {
          "output_type": "stream",
          "text": [
            "(55, 2)\n",
            "            Value  Missing_Data\n",
            "Date                           \n",
            "2014-11-15   10.0          10.0\n",
            "2014-11-19   10.0          10.0\n",
            "2014-11-23   12.0          12.0\n",
            "2014-11-24   12.0          12.0\n",
            "2014-11-25   12.0          12.0\n"
          ],
          "name": "stdout"
        }
      ]
    },
    {
      "cell_type": "code",
      "metadata": {
        "id": "cXr-C8B6c5Qc",
        "colab_type": "code",
        "colab": {
          "base_uri": "https://localhost:8080/",
          "height": 225
        },
        "outputId": "833b7fbf-1bce-4102-f0ae-8ada7b5ce5cf"
      },
      "source": [
        "# randomly delete 20 rows of data in \"missing_data\"\n",
        "indexes = df.sample(10).index\n",
        "df.loc[indexes, 'Missing_Data'] = np.NaN\n",
        "df.tail()"
      ],
      "execution_count": null,
      "outputs": [
        {
          "output_type": "execute_result",
          "data": {
            "text/html": [
              "<div>\n",
              "<style scoped>\n",
              "    .dataframe tbody tr th:only-of-type {\n",
              "        vertical-align: middle;\n",
              "    }\n",
              "\n",
              "    .dataframe tbody tr th {\n",
              "        vertical-align: top;\n",
              "    }\n",
              "\n",
              "    .dataframe thead th {\n",
              "        text-align: right;\n",
              "    }\n",
              "</style>\n",
              "<table border=\"1\" class=\"dataframe\">\n",
              "  <thead>\n",
              "    <tr style=\"text-align: right;\">\n",
              "      <th></th>\n",
              "      <th>Value</th>\n",
              "      <th>Missing_Data</th>\n",
              "    </tr>\n",
              "    <tr>\n",
              "      <th>Date</th>\n",
              "      <th></th>\n",
              "      <th></th>\n",
              "    </tr>\n",
              "  </thead>\n",
              "  <tbody>\n",
              "    <tr>\n",
              "      <th>2014-11-15</th>\n",
              "      <td>10.0</td>\n",
              "      <td>10.0</td>\n",
              "    </tr>\n",
              "    <tr>\n",
              "      <th>2014-11-19</th>\n",
              "      <td>10.0</td>\n",
              "      <td>10.0</td>\n",
              "    </tr>\n",
              "    <tr>\n",
              "      <th>2014-11-23</th>\n",
              "      <td>12.0</td>\n",
              "      <td>NaN</td>\n",
              "    </tr>\n",
              "    <tr>\n",
              "      <th>2014-11-24</th>\n",
              "      <td>12.0</td>\n",
              "      <td>12.0</td>\n",
              "    </tr>\n",
              "    <tr>\n",
              "      <th>2014-11-25</th>\n",
              "      <td>12.0</td>\n",
              "      <td>12.0</td>\n",
              "    </tr>\n",
              "  </tbody>\n",
              "</table>\n",
              "</div>"
            ],
            "text/plain": [
              "            Value  Missing_Data\n",
              "Date                           \n",
              "2014-11-15   10.0          10.0\n",
              "2014-11-19   10.0          10.0\n",
              "2014-11-23   12.0           NaN\n",
              "2014-11-24   12.0          12.0\n",
              "2014-11-25   12.0          12.0"
            ]
          },
          "metadata": {
            "tags": []
          },
          "execution_count": 147
        }
      ]
    },
    {
      "cell_type": "code",
      "metadata": {
        "id": "B58YemhxunAl",
        "colab_type": "code",
        "colab": {
          "base_uri": "https://localhost:8080/",
          "height": 185
        },
        "outputId": "48faa819-ed13-419f-ba39-690f39cd4669"
      },
      "source": [
        "# confirm we have 20 missing\n",
        "df = df.assign(missing=np.nan)\n",
        "df.missing[df['Missing_Data'].isna()] = df[\"Value\"]\n",
        "df.info()"
      ],
      "execution_count": null,
      "outputs": [
        {
          "output_type": "stream",
          "text": [
            "<class 'pandas.core.frame.DataFrame'>\n",
            "DatetimeIndex: 55 entries, 2014-03-24 to 2014-11-25\n",
            "Data columns (total 3 columns):\n",
            " #   Column        Non-Null Count  Dtype  \n",
            "---  ------        --------------  -----  \n",
            " 0   Value         55 non-null     float64\n",
            " 1   Missing_Data  45 non-null     float64\n",
            " 2   missing       10 non-null     float64\n",
            "dtypes: float64(3)\n",
            "memory usage: 1.7 KB\n"
          ],
          "name": "stdout"
        }
      ]
    },
    {
      "cell_type": "code",
      "metadata": {
        "id": "ALGxuh-WvpoT",
        "colab_type": "code",
        "colab": {
          "base_uri": "https://localhost:8080/",
          "height": 588
        },
        "outputId": "339e5d9f-9aca-4f9a-d807-57e97f3d7507"
      },
      "source": [
        "# take a look\n",
        "df.plot(style=['k--', 'bo-', 'r*'], figsize=(20,10))"
      ],
      "execution_count": null,
      "outputs": [
        {
          "output_type": "execute_result",
          "data": {
            "text/plain": [
              "<matplotlib.axes._subplots.AxesSubplot at 0x7f837b89fa20>"
            ]
          },
          "metadata": {
            "tags": []
          },
          "execution_count": 149
        },
        {
          "output_type": "display_data",
          "data": {
            "image/png": "[encoded data removed]",
            "text/plain": [
              "<Figure size 1440x720 with 1 Axes>"
            ]
          },
          "metadata": {
            "tags": [],
            "needs_background": "light"
          }
        }
      ]
    },
    {
      "cell_type": "markdown",
      "metadata": {
        "id": "i7-0GoqdDTsV",
        "colab_type": "text"
      },
      "source": [
        "# Try to impute missing data points with several methods"
      ]
    },
    {
      "cell_type": "code",
      "metadata": {
        "id": "fORFlephDY54",
        "colab_type": "code",
        "colab": {
          "base_uri": "https://localhost:8080/",
          "height": 588
        },
        "outputId": "6a3fce7c-1f36-461b-8f4c-092c4a6bac34"
      },
      "source": [
        "# Method 1 interpolate time\n",
        "df = df.assign(interpolateTime=df.Missing_Data.interpolate(method='time'))\n",
        "df = df.assign(interpolateLinear = df.Missing_Data.interpolate())\n",
        "df.plot(style=['k--', 'bo-', 'r*', 'g--', 'y--'], figsize=(20,10))"
      ],
      "execution_count": null,
      "outputs": [
        {
          "output_type": "execute_result",
          "data": {
            "text/plain": [
              "<matplotlib.axes._subplots.AxesSubplot at 0x7f837b06ce48>"
            ]
          },
          "metadata": {
            "tags": []
          },
          "execution_count": 157
        },
        {
          "output_type": "display_data",
          "data": {
            "image/png": "[encoded data removed]",
            "text/plain": [
              "<Figure size 1440x720 with 1 Axes>"
            ]
          },
          "metadata": {
            "tags": [],
            "needs_background": "light"
          }
        }
      ]
    },
    {
      "cell_type": "code",
      "metadata": {
        "id": "3lPHbhnK0pm9",
        "colab_type": "code",
        "colab": {
          "base_uri": "https://localhost:8080/",
          "height": 34
        },
        "outputId": "0d008cfa-e8f5-48be-b31b-a3b343822d50"
      },
      "source": [
        "from sklearn.metrics import r2_score\n",
        "# Scoring\n",
        "results = [ ('InterpTime', r2_score(df.Value, df.interpolateTime))]\n",
        "print(results)"
      ],
      "execution_count": null,
      "outputs": [
        {
          "output_type": "stream",
          "text": [
            "[('InterpTime', 0.998281704593304)]\n"
          ],
          "name": "stdout"
        }
      ]
    },
    {
      "cell_type": "code",
      "metadata": {
        "id": "AKy93O2AwuwR",
        "colab_type": "code",
        "colab": {}
      },
      "source": [
        "# Pandas read from string"
      ],
      "execution_count": null,
      "outputs": []
    },
    {
      "cell_type": "code",
      "metadata": {
        "id": "hXq_qipqx2lg",
        "colab_type": "code",
        "colab": {
          "base_uri": "https://localhost:8080/",
          "height": 203
        },
        "outputId": "ce0e88f5-1666-497e-c780-3e807356b3bc"
      },
      "source": [
        "myString = 'Date\\tValue\\n1-4-2012\\t34\\n1-5-2012\\t38.3\\n1-6-2012\\t45'\n",
        "print(myString)\n",
        "testdata = io.StringIO(myString)\n",
        "df2 = pd.read_csv(testdata, '\\t')\n",
        "df2"
      ],
      "execution_count": null,
      "outputs": [
        {
          "output_type": "stream",
          "text": [
            "Date\tValue\n",
            "1-4-2012\t34\n",
            "1-5-2012\t38.3\n",
            "1-6-2012\t45\n"
          ],
          "name": "stdout"
        },
        {
          "output_type": "execute_result",
          "data": {
            "text/html": [
              "<div>\n",
              "<style scoped>\n",
              "    .dataframe tbody tr th:only-of-type {\n",
              "        vertical-align: middle;\n",
              "    }\n",
              "\n",
              "    .dataframe tbody tr th {\n",
              "        vertical-align: top;\n",
              "    }\n",
              "\n",
              "    .dataframe thead th {\n",
              "        text-align: right;\n",
              "    }\n",
              "</style>\n",
              "<table border=\"1\" class=\"dataframe\">\n",
              "  <thead>\n",
              "    <tr style=\"text-align: right;\">\n",
              "      <th></th>\n",
              "      <th>Date</th>\n",
              "      <th>Value</th>\n",
              "    </tr>\n",
              "  </thead>\n",
              "  <tbody>\n",
              "    <tr>\n",
              "      <th>0</th>\n",
              "      <td>1-4-2012</td>\n",
              "      <td>34.0</td>\n",
              "    </tr>\n",
              "    <tr>\n",
              "      <th>1</th>\n",
              "      <td>1-5-2012</td>\n",
              "      <td>38.3</td>\n",
              "    </tr>\n",
              "    <tr>\n",
              "      <th>2</th>\n",
              "      <td>1-6-2012</td>\n",
              "      <td>45.0</td>\n",
              "    </tr>\n",
              "  </tbody>\n",
              "</table>\n",
              "</div>"
            ],
            "text/plain": [
              "       Date  Value\n",
              "0  1-4-2012   34.0\n",
              "1  1-5-2012   38.3\n",
              "2  1-6-2012   45.0"
            ]
          },
          "metadata": {
            "tags": []
          },
          "execution_count": 229
        }
      ]
    },
    {
      "cell_type": "code",
      "metadata": {
        "id": "FOtDyNYHyZpd",
        "colab_type": "code",
        "colab": {
          "base_uri": "https://localhost:8080/",
          "height": 166
        },
        "outputId": "c0587235-4ddb-461e-865d-49f75fec250d"
      },
      "source": [
        "df2.Date = pd.to_datetime(df2.Date)\n",
        "df2 = df2.set_index('Date')\n",
        "df2"
      ],
      "execution_count": null,
      "outputs": [
        {
          "output_type": "execute_result",
          "data": {
            "text/html": [
              "<div>\n",
              "<style scoped>\n",
              "    .dataframe tbody tr th:only-of-type {\n",
              "        vertical-align: middle;\n",
              "    }\n",
              "\n",
              "    .dataframe tbody tr th {\n",
              "        vertical-align: top;\n",
              "    }\n",
              "\n",
              "    .dataframe thead th {\n",
              "        text-align: right;\n",
              "    }\n",
              "</style>\n",
              "<table border=\"1\" class=\"dataframe\">\n",
              "  <thead>\n",
              "    <tr style=\"text-align: right;\">\n",
              "      <th></th>\n",
              "      <th>Value</th>\n",
              "    </tr>\n",
              "    <tr>\n",
              "      <th>Date</th>\n",
              "      <th></th>\n",
              "    </tr>\n",
              "  </thead>\n",
              "  <tbody>\n",
              "    <tr>\n",
              "      <th>2012-01-04</th>\n",
              "      <td>34.0</td>\n",
              "    </tr>\n",
              "    <tr>\n",
              "      <th>2012-01-05</th>\n",
              "      <td>38.3</td>\n",
              "    </tr>\n",
              "    <tr>\n",
              "      <th>2012-01-06</th>\n",
              "      <td>45.0</td>\n",
              "    </tr>\n",
              "  </tbody>\n",
              "</table>\n",
              "</div>"
            ],
            "text/plain": [
              "            Value\n",
              "Date             \n",
              "2012-01-04   34.0\n",
              "2012-01-05   38.3\n",
              "2012-01-06   45.0"
            ]
          },
          "metadata": {
            "tags": []
          },
          "execution_count": 230
        }
      ]
    },
    {
      "cell_type": "code",
      "metadata": {
        "id": "g-ux0lqizlFJ",
        "colab_type": "code",
        "colab": {}
      },
      "source": [
        "df2['Value'] = pd.to_numeric(df2['Value'], downcast='integer')\n",
        "type(df2.Value[1])"
      ],
      "execution_count": null,
      "outputs": []
    },
    {
      "cell_type": "code",
      "metadata": {
        "id": "pWQB9RmYzw7-",
        "colab_type": "code",
        "colab": {
          "base_uri": "https://localhost:8080/",
          "height": 166
        },
        "outputId": "1a669346-1e82-4414-e0ea-4ad88c5739a5"
      },
      "source": [
        "df2 = df2.assign(interp = df2['Value'].interpolate(method='linear'))\n",
        "df2"
      ],
      "execution_count": null,
      "outputs": [
        {
          "output_type": "execute_result",
          "data": {
            "text/html": [
              "<div>\n",
              "<style scoped>\n",
              "    .dataframe tbody tr th:only-of-type {\n",
              "        vertical-align: middle;\n",
              "    }\n",
              "\n",
              "    .dataframe tbody tr th {\n",
              "        vertical-align: top;\n",
              "    }\n",
              "\n",
              "    .dataframe thead th {\n",
              "        text-align: right;\n",
              "    }\n",
              "</style>\n",
              "<table border=\"1\" class=\"dataframe\">\n",
              "  <thead>\n",
              "    <tr style=\"text-align: right;\">\n",
              "      <th></th>\n",
              "      <th>Value</th>\n",
              "      <th>interp</th>\n",
              "    </tr>\n",
              "    <tr>\n",
              "      <th>Date</th>\n",
              "      <th></th>\n",
              "      <th></th>\n",
              "    </tr>\n",
              "  </thead>\n",
              "  <tbody>\n",
              "    <tr>\n",
              "      <th>2012-01-04</th>\n",
              "      <td>34.0</td>\n",
              "      <td>34.0</td>\n",
              "    </tr>\n",
              "    <tr>\n",
              "      <th>2012-01-05</th>\n",
              "      <td>38.3</td>\n",
              "      <td>38.3</td>\n",
              "    </tr>\n",
              "    <tr>\n",
              "      <th>2012-01-06</th>\n",
              "      <td>45.0</td>\n",
              "      <td>45.0</td>\n",
              "    </tr>\n",
              "  </tbody>\n",
              "</table>\n",
              "</div>"
            ],
            "text/plain": [
              "            Value  interp\n",
              "Date                     \n",
              "2012-01-04   34.0    34.0\n",
              "2012-01-05   38.3    38.3\n",
              "2012-01-06   45.0    45.0"
            ]
          },
          "metadata": {
            "tags": []
          },
          "execution_count": 241
        }
      ]
    },
    {
      "cell_type": "code",
      "metadata": {
        "id": "GkveM8OF_FGh",
        "colab_type": "code",
        "colab": {
          "base_uri": "https://localhost:8080/",
          "height": 249
        },
        "outputId": "59105674-682f-40c9-a68f-fadf06f98b46"
      },
      "source": [
        "import pandas as pd\n",
        "df = pd.DataFrame({'A':[1,2]})\n",
        "df = df.append(pd.Series(), ignore_index=True)\n",
        "df\n",
        "import datetime\n",
        "today = datetime.date(2012,10,1)\n",
        "df.index"
      ],
      "execution_count": null,
      "outputs": [
        {
          "output_type": "stream",
          "text": [
            "/usr/local/lib/python3.6/dist-packages/ipykernel_launcher.py:3: DeprecationWarning: The default dtype for empty Series will be 'object' instead of 'float64' in a future version. Specify a dtype explicitly to silence this warning.\n",
            "  This is separate from the ipykernel package so we can avoid doing imports until\n"
          ],
          "name": "stderr"
        },
        {
          "output_type": "error",
          "ename": "AttributeError",
          "evalue": "ignored",
          "traceback": [
            "\u001b[0;31m---------------------------------------------------------------------------\u001b[0m",
            "\u001b[0;31mAttributeError\u001b[0m                            Traceback (most recent call last)",
            "\u001b[0;32m<ipython-input-20-9cbd61b16007>\u001b[0m in \u001b[0;36m<module>\u001b[0;34m()\u001b[0m\n\u001b[1;32m      5\u001b[0m \u001b[0;32mimport\u001b[0m \u001b[0mdatetime\u001b[0m\u001b[0;34m\u001b[0m\u001b[0;34m\u001b[0m\u001b[0m\n\u001b[1;32m      6\u001b[0m \u001b[0mtoday\u001b[0m \u001b[0;34m=\u001b[0m \u001b[0mdatetime\u001b[0m\u001b[0;34m.\u001b[0m\u001b[0mdate\u001b[0m\u001b[0;34m(\u001b[0m\u001b[0;36m2012\u001b[0m\u001b[0;34m,\u001b[0m\u001b[0;36m10\u001b[0m\u001b[0;34m,\u001b[0m\u001b[0;36m1\u001b[0m\u001b[0;34m)\u001b[0m\u001b[0;34m\u001b[0m\u001b[0;34m\u001b[0m\u001b[0m\n\u001b[0;32m----> 7\u001b[0;31m \u001b[0mprint\u001b[0m\u001b[0;34m(\u001b[0m\u001b[0mtoday\u001b[0m \u001b[0;34m+\u001b[0m \u001b[0mdatetime\u001b[0m\u001b[0;34m.\u001b[0m\u001b[0mday\u001b[0m\u001b[0;34m)\u001b[0m\u001b[0;34m\u001b[0m\u001b[0;34m\u001b[0m\u001b[0m\n\u001b[0m",
            "\u001b[0;31mAttributeError\u001b[0m: module 'datetime' has no attribute 'day'"
          ]
        }
      ]
    },
    {
      "cell_type": "code",
      "metadata": {
        "id": "YeFMOGX9CeOK",
        "colab_type": "code",
        "colab": {}
      },
      "source": [
        "import pandas as pd\n",
        "\n",
        "number_of_rows = input()\n",
        "data = []\n",
        "for i in range(int(number_of_rows)):\n",
        "    x = input()\n",
        "    data.append(int(x))\n",
        "\n",
        "df = pd.DataFrame(data, columns=['data'])\n",
        "df.data = pd.to_numeric(df.data, downcast= 'integer')\n",
        "df = df.append(pd.Series(), ignore_index=True)\n",
        "print(df)"
      ],
      "execution_count": null,
      "outputs": []
    }
  ]
}